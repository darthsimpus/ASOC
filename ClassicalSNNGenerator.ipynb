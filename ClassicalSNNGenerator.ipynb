{
 "cells": [
  {
   "cell_type": "code",
   "execution_count": null,
   "metadata": {
    "id": "oaYVuKnhWLB9"
   },
   "outputs": [],
   "source": [
    "device = \"cpu\"\n",
    "# device = \"cuda\"\n",
    "import time,os,copy,torch,pytorch_spiking,torchvision\n",
    "import torch.nn as nn\n",
    "import torch.optim as optim\n",
    "from torch.optim import lr_scheduler\n",
    "from torchvision import datasets, transforms\n",
    "from tqdm import tqdm\n",
    "import pickle\n",
    "# Pennylane\n",
    "import pennylane as qml\n",
    "from pennylane import numpy as np\n",
    "\n",
    "torch.manual_seed(0)\n",
    "np.random.seed(0)\n",
    "\n",
    "# Plotting\n",
    "import matplotlib.pyplot as plt\n",
    "\n",
    "\n",
    "# OpenMP: number of parallel threads.\n",
    "os.environ[\"OMP_NUM_THREADS\"] = \"16\"\n"
   ]
  },
  {
   "cell_type": "code",
   "execution_count": null,
   "metadata": {
    "id": "BBqhpzaiuuWC"
   },
   "outputs": [],
   "source": [
    "class_names = [\n",
    "    \"0\",\n",
    "    \"1\",\n",
    "    \"2\",\n",
    "    \"3\",\n",
    "    \"4\",\n",
    "]\n",
    "num_classes = len(class_names)\n",
    "\n",
    "import idx2numpy \n",
    "import numpy as np \n",
    "arr3 = []\n",
    "arr4 = []\n",
    "#file1 = './MNIST/TorchvisionDatasetWrapper/raw/train-images-idx3-ubyte'\n",
    "#file1 = './HybridQSNN/EMNIST/raw/gzip/emnist-digits-train-images-idx3-ubyte' \n",
    "file1 = './HybridQSNN/KMNIST/raw/k49-train-imgs.npz' \n",
    "#arr = idx2numpy.convert_from_file(file1)\n",
    "arr = np.load(file1)['arr_0']\n",
    "#file2 = './MNIST/TorchvisionDatasetWrapper/raw/train-labels-idx1-ubyte'\n",
    "#file2 = './HybridQSNN/EMNIST/raw/gzip/emnist-digits-train-labels-idx1-ubyte' \n",
    "file2 =  './HybridQSNN/KMNIST/raw/k49-train-labels.npz'\n",
    "arr2 = np.load(file2)['arr_0']\n",
    "\n",
    "for i in range(len(arr)):\n",
    "    if arr2[i] in [0,1,2,3]:\n",
    "        arr3.append(arr[i])\n",
    "        arr4.append(arr2[i])\n"
   ]
  },
  {
   "cell_type": "code",
   "execution_count": null,
   "metadata": {
    "colab": {
     "base_uri": "https://localhost:8080/",
     "height": 34
    },
    "id": "9XrbmsLB_sbt",
    "outputId": "96c4be16-78e8-4afd-c1d1-05096b6deaaf"
   },
   "outputs": [],
   "source": [
    "# repeat the images for n_steps\n",
    "n_steps = 10\n",
    "# train_sequences = np.tile(train_images[:, None], (1, n_steps, 1, 1))\n",
    "# test_sequences = np.tile(test_images[:, None], (1, n_steps, 1, 1))\n",
    "train_images = np.asarray(arr3,dtype=np.float32) / 255.0\n",
    "train_labels = np.asarray(arr4,dtype=np.int64)\n",
    "\n",
    "#train_labels -= 6\n",
    "display(np.shape(train_labels))\n"
   ]
  },
  {
   "cell_type": "code",
   "execution_count": null,
   "metadata": {
    "colab": {
     "base_uri": "https://localhost:8080/",
     "height": 785
    },
    "id": "5iOn-WphsNw8",
    "outputId": "6ef97b44-fcbb-48f5-ae75-ccfad455e1f5"
   },
   "outputs": [],
   "source": [
    "plt.figure(figsize=(10, 10))\n",
    "for i in range(25):\n",
    "    plt.subplot(5, 5, i + 1)\n",
    "    plt.imshow(train_images[i], cmap=plt.cm.binary)\n",
    "    plt.axis(\"off\")\n",
    "    #print(train_labels[i])\n",
    "    plt.title(class_names[train_labels[i]])"
   ]
  },
  {
   "cell_type": "code",
   "execution_count": null,
   "metadata": {
    "colab": {
     "base_uri": "https://localhost:8080/"
    },
    "id": "f-WhMWC7pHOf",
    "outputId": "3074c2aa-adc7-4403-bcc2-d53fec667bcc"
   },
   "outputs": [],
   "source": [
    "# test_sequences = train_sequences[:int(len(train_sequences)*0.3)]\n",
    "# test_labels = train_labels[:int(len(train_labels)*0.3)]\n",
    "# train_sequences = train_sequences[int(len(train_sequences)*0.7):]\n",
    "# train_labels = train_labels[int(len(train_labels)*0.7):]\n",
    "split = np.array_split(train_images,[int(len(train_images)*0.7)])\n",
    "train_sequences = split[0]\n",
    "test_sequences = split[1]\n",
    "print(len(split[0]),len(split[1]))\n",
    "split = np.array_split(train_labels,[int(len(train_labels)*0.7)])\n",
    "train_labels = split[0]\n",
    "test_labels = split[1]\n",
    "print(len(split[0]),len(split[1]))\n",
    "datalength = 5000\n",
    "\n",
    "train_sequences = np.tile(train_sequences[:, None], (1, n_steps, 1, 1))[:datalength]\n",
    "#train_sequences = np.tile(train_sequences[:, None], (1, n_steps, 1, 1))\n",
    "test_sequences = np.tile(test_sequences[:, None], (1, n_steps, 1, 1))\n",
    "train_labels = train_labels[:datalength]\n",
    "test_labels = test_labels\n",
    "\n",
    "print(len(test_labels),len(test_sequences),len(train_labels),len(train_sequences))"
   ]
  },
  {
   "cell_type": "code",
   "execution_count": null,
   "metadata": {},
   "outputs": [],
   "source": [
    "# exec(f\"metrics_{str(n_qubits)}x{str(q_depth)} = []\")\n",
    "# s = f\"metrics_{n_qubits}x{q_depth}.npy\"\n",
    "# !mkdir -p saves_training"
   ]
  },
  {
   "cell_type": "code",
   "execution_count": null,
   "metadata": {
    "colab": {
     "base_uri": "https://localhost:8080/"
    },
    "id": "ET7CZSNnCMeV",
    "outputId": "29cf9172-00c8-425d-c673-9e0ff866e696"
   },
   "outputs": [],
   "source": [
    "def train(input_model, train_x, test_x):\n",
    "    minibatch_size = 32\n",
    "    optimizer = torch.optim.Adam(input_model.parameters())\n",
    " \n",
    "    input_model.train()\n",
    "    for j in range(30):\n",
    "        train_acc = 0\n",
    "        loss_acc = 0\n",
    "\n",
    "        for i in tqdm(range(train_x.shape[0] // minibatch_size)):\n",
    "            input_model.zero_grad()\n",
    " \n",
    "            batch_in = train_x[i * minibatch_size : (i + 1) * minibatch_size]\n",
    "            # flatten images\n",
    "            batch_in = batch_in.reshape((-1,) + train_x.shape[1:-2] + (784,))\n",
    "            batch_label = train_labels[i * minibatch_size : (i + 1) * minibatch_size]\n",
    "            output = input_model(torch.tensor(batch_in))\n",
    " \n",
    "            # compute sparse categorical cross entropy loss\n",
    "            logp = torch.nn.functional.log_softmax(output, dim=-1)\n",
    "            logpy = torch.gather(logp, 1, torch.tensor(batch_label).view(-1, 1))\n",
    "            loss = -logpy.mean()\n",
    "            loss_acc += loss \n",
    " \n",
    "            loss.backward()\n",
    "            optimizer.step()\n",
    " \n",
    "            train_acc += torch.mean(\n",
    "                torch.eq(torch.argmax(output, dim=1), torch.tensor(batch_label)).float()\n",
    "            )\n",
    "        train_acc /= i + 1\n",
    "        #torch.save(model_hybrid,f=f\"./saves_class10/{n_qubits}x{q_depth}_{j}_{train_acc.numpy()}.h5\")  \n",
    "        print(\"Train accuracy (%d): \" % j, train_acc.numpy())\n",
    "        loss_acc /=i + 1\n",
    "        print(\"Loss (%d): \" % j, loss_acc.detach().numpy())\n",
    "        #exec(f\"metrics_{n_qubits}x{q_depth}.append([{train_acc.numpy()},{loss_acc.detach().numpy()}])\")\n",
    "        # exec(f\"np.save(\"+\"metrics_\")\")\n",
    "        #eval(\"np.save('./saves_class10/\"+s+f\"',metrics_{n_qubits}x{q_depth})\")\n",
    "    # compute test accuracy\n",
    "    input_model.eval()\n",
    "    test_acc = 0\n",
    "    for i in range(test_x.shape[0] // minibatch_size):\n",
    "        batch_in = test_x[i * minibatch_size : (i + 1) * minibatch_size]\n",
    "        batch_in = batch_in.reshape((-1,) + test_x.shape[1:-2] + (784,))\n",
    "        batch_label = test_labels[i * minibatch_size : (i + 1) * minibatch_size]\n",
    "        output = input_model(torch.tensor(batch_in))\n",
    " \n",
    "        test_acc += torch.mean(\n",
    "            torch.eq(torch.argmax(output, dim=1), torch.tensor(batch_label)).float()\n",
    "        )\n",
    " \n",
    "    test_acc /= i + 1\n",
    " \n",
    "    print(\"Test accuracy:\", test_acc.numpy())"
   ]
  },
  {
   "cell_type": "code",
   "execution_count": null,
   "metadata": {},
   "outputs": [],
   "source": [
    "import torch\n",
    "import torch.nn as nn\n",
    "import torch.optim as optim\n",
    "from torch.optim import lr_scheduler\n",
    "import torchvision\n",
    "from torchvision import datasets, transforms\n"
   ]
  },
  {
   "cell_type": "code",
   "execution_count": null,
   "metadata": {
    "scrolled": true
   },
   "outputs": [],
   "source": [
    "spiking_model = torch.nn.Sequential(\n",
    "    torch.nn.Linear(784, 128),\n",
    "    # wrap ReLU in SpikingActivation\n",
    "    pytorch_spiking.SpikingActivation(torch.nn.ReLU(), spiking_aware_training=True,dt=0.01),\n",
    "    # use average pooling layer to average spiking output over time\n",
    "    pytorch_spiking.TemporalAvgPool(),\n",
    "    torch.nn.Linear(128, 10),\n",
    ")\n",
    "display(spiking_model)\n",
    "# train the model, identically to the non-spiking version,\n",
    "# except using the time sequences as input\n",
    "#train(spiking_model, train_sequences, test_sequences)"
   ]
  },
  {
   "cell_type": "code",
   "execution_count": null,
   "metadata": {},
   "outputs": [],
   "source": [
    "class DressedClassicalNet(nn.Module):\n",
    "    def __init__(self):\n",
    "        super().__init__()\n",
    "        self.pre_net = nn.Linear(128, 6)\n",
    "        self.mid_net = nn.Linear(6,6)\n",
    "        self.post_net = nn.Linear(6, 5)\n",
    "\n",
    "    def forward(self, input_features):\n",
    "\n",
    "        pre_out = self.pre_net(input_features)\n",
    "        q_in = torch.tanh(pre_out) * np.pi / 2.0\n",
    "        mid_out = self.mid_net(q_in)\n",
    "        return self.post_net(mid_out)"
   ]
  },
  {
   "cell_type": "code",
   "execution_count": null,
   "metadata": {},
   "outputs": [],
   "source": [
    "spiking_model = torch.load(\"./HybridQSNN/KMNIST/spikeaware_kmnist.h5\")\n",
    "spiking_model = copy.deepcopy(torch.nn.Sequential(*(list(spiking_model.children())[:-1])))\n",
    "for param in spiking_model.parameters():\n",
    "    param.requires_grad = False\n",
    "\n",
    "spiking_model.fc = DressedClassicalNet()\n",
    "display(spiking_model)\n",
    "# # Use CUDA or CPU according to the \"device\" object.\n",
    "# spiking_model = spiking_model.to(device)\n"
   ]
  },
  {
   "cell_type": "code",
   "execution_count": null,
   "metadata": {},
   "outputs": [],
   "source": [
    "spiking_model = torch.nn.Sequential(\n",
    "    torch.nn.Linear(784, 128),\n",
    "    # set spiking_aware_training and a moderate dt\n",
    "    pytorch_spiking.SpikingActivation(\n",
    "        torch.nn.ReLU(), dt=0.01, spiking_aware_training=True\n",
    "    ),\n",
    "    pytorch_spiking.TemporalAvgPool(),\n",
    "    torch.nn.Linear(128, 10),\n",
    ")"
   ]
  },
  {
   "cell_type": "code",
   "execution_count": null,
   "metadata": {},
   "outputs": [],
   "source": [
    "import pytorch_spiking"
   ]
  },
  {
   "cell_type": "code",
   "execution_count": null,
   "metadata": {},
   "outputs": [],
   "source": [
    "train(spiking_model, train_sequences, test_sequences)"
   ]
  },
  {
   "cell_type": "code",
   "execution_count": null,
   "metadata": {},
   "outputs": [],
   "source": [
    "torch.save(spiking_model,\"./HybridQSNN/KMNIST/spikeaware_kmnist_final.h5\")"
   ]
  }
 ],
 "metadata": {
  "colab": {
   "collapsed_sections": [],
   "name": "Noise [5-ary] pretrain final last layer 5x5.ipynb",
   "provenance": []
  },
  "kernelspec": {
   "display_name": "Python 3.9.12 64-bit",
   "language": "python",
   "name": "python3"
  },
  "language_info": {
   "codemirror_mode": {
    "name": "ipython",
    "version": 3
   },
   "file_extension": ".py",
   "mimetype": "text/x-python",
   "name": "python",
   "nbconvert_exporter": "python",
   "pygments_lexer": "ipython3",
   "version": "3.9.12"
  },
  "vscode": {
   "interpreter": {
    "hash": "beaffcd69350167707082d796d83130d58bab3408b4f65f2e212ecd34479db88"
   }
  }
 },
 "nbformat": 4,
 "nbformat_minor": 4
}
