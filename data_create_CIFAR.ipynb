{
 "cells": [
  {
   "cell_type": "code",
   "execution_count": null,
   "metadata": {},
   "outputs": [],
   "source": [
    "device = \"cpu\"\n",
    "# device = \"cuda\"\n",
    "import time,os,copy\n",
    "import idx2numpy \n",
    "import numpy as np \n",
    "from tqdm import tqdm\n",
    "\n",
    "seed = 42\n",
    "np.random.seed(seed)\n",
    "\n",
    "# Plotting\n",
    "import matplotlib.pyplot as plt\n",
    "\n",
    "# OpenMP: number of parallel threads.\n",
    "os.environ[\"OMP_NUM_THREADS\"] = \"16\"\n",
    "\n",
    "create = False\n",
    "\n",
    "class_names = [\n",
    "    \"0\",\n",
    "    \"1\",\n",
    "    \"2\",\n",
    "    \"3\",\n",
    "    \"4\",\n",
    "]\n",
    "num_classes = len(class_names)\n"
   ]
  },
  {
   "cell_type": "code",
   "execution_count": null,
   "metadata": {},
   "outputs": [],
   "source": [
    "arr3 = []\n",
    "arr4 = []\n",
    "file1 = './CIFAR/raw/cifar-train-imgs.npz' \n",
    "arr = np.load(file1)['arr_0']\n",
    "file2 = './CIFAR/raw/cifar-train-labels.npz' \n",
    "arr2 = np.load(file2)['arr_0']\n",
    "print(np.unique(arr2))\n",
    "for i in range(len(arr)):\n",
    "    if arr2[i] in [0,1,2,3,4]:\n",
    "        arr3.append(arr[i])\n",
    "        arr4.append(arr2[i])\n",
    "\n",
    "n_steps = 10\n",
    "train_images = np.asarray(arr3,dtype=np.float32) / 255.0\n",
    "train_labels = np.asarray(arr4,dtype=np.int64)\n",
    "display(train_labels)\n",
    "\n",
    "plt.figure(figsize=(10, 10))\n",
    "for i in range(25):\n",
    "    plt.subplot(5, 5, i + 1)\n",
    "    plt.imshow(train_images[i], cmap=plt.cm.binary)\n",
    "    plt.axis(\"off\")\n",
    "    plt.title(class_names[train_labels[i]])\n",
    "\n",
    "# splitting the full dataset of 5 classes into test and train images to ensure the testing does not happen on images from train data.\n",
    "split = np.array_split(train_images,[int(len(train_images)*0.7)])\n",
    "train_sequences = split[0]\n",
    "test_sequences = split[1]\n",
    "print(len(split[0]),len(split[1]))\n",
    "split = np.array_split(train_labels,[int(len(train_labels)*0.7)])\n",
    "train_labels = split[0]\n",
    "test_labels = split[1]\n",
    "print(len(split[0]),len(split[1]))\n",
    "datalength = 5000\n",
    "# we restrict the training to first 5000 images of 21000\n",
    "train_sequences = np.tile(train_sequences[:, None], (1, n_steps, 1, 1))#[:datalength]\n",
    "test_sequences = np.tile(test_sequences[:, None], (1, n_steps, 1, 1))\n",
    "# train_labels = train_labels[:datalength]\n",
    "if create:\n",
    "    np.savez_compressed(\"./saved_data_CIFAR_5/test_labels.npz\",test_labels)\n",
    "    np.savez_compressed(f\"./saved_data_CIFAR_5/test_seqs_{seed}.npz\",test_sequences)\n",
    "    np.savez_compressed(\"./saved_data_CIFAR_5/train_labels.npz\",train_labels)\n",
    "    np.savez_compressed(f\"./saved_data_CIFAR_5/train_seqs_{seed}.npz\",train_sequences)\n",
    "\n",
    "print(len(test_labels),len(test_sequences),len(train_labels),len(train_sequences))"
   ]
  },
  {
   "cell_type": "markdown",
   "metadata": {},
   "source": [
    "# Salt and pepper"
   ]
  },
  {
   "cell_type": "code",
   "execution_count": null,
   "metadata": {},
   "outputs": [],
   "source": [
    "def salt_pepper(test_sequences,test_labels,prob,salt=0,pepper=1):\n",
    "  sampled_images = test_sequences\n",
    "  sampled_labels = test_labels\n",
    "  for j in range(len(test_labels)):\n",
    "    for i in range(np.shape(sampled_images[j])[0]):\n",
    "      for y in range(28):\n",
    "        for x in range(28):\n",
    "          r = np.random.random() \n",
    "          if r < prob:\n",
    "            sampled_images[j][i][y][x] = salt\n",
    "          elif r > 1-prob:\n",
    "            sampled_images[j][i][y][x] = pepper\n",
    "  return sampled_images,sampled_labels"
   ]
  },
  {
   "cell_type": "code",
   "execution_count": null,
   "metadata": {},
   "outputs": [],
   "source": [
    "if create:\n",
    "    for i in range(1,10,1):\n",
    "        d , l =salt_pepper(np.load(f\"./saved_data_CIFAR_5/test_seqs_{seed}.npz\")['arr_0'],np.load(f\"./saved_data_CIFAR_5/test_labels.npz\")['arr_0'],i/100.0)\n",
    "        np.savez_compressed(f\"./saved_data_CIFAR_5/snp_{i/100.0}_{seed}.npz\",d)\n",
    "    for i in range(1,6,1):\n",
    "        d , l =salt_pepper(np.load(f\"./saved_data_CIFAR_5/test_seqs_{seed}.npz\")['arr_0'],np.load(f\"./saved_data_CIFAR_5/test_labels.npz\")['arr_0'],i/10.0)\n",
    "        np.savez_compressed(f\"./saved_data_CIFAR_5/snp_{i/10.0}_{seed}.npz\",d)"
   ]
  },
  {
   "cell_type": "code",
   "execution_count": null,
   "metadata": {},
   "outputs": [],
   "source": [
    "for ii in range(1,10,1):\n",
    "    print(f\"noise probability = {2*ii/100.}\")\n",
    "    d = np.load(f\"./saved_data_CIFAR_5/snp_{ii/100.0}_{seed}.npz\")['arr_0']\n",
    "    l = np.load(f\"./saved_data_CIFAR_5/test_labels.npz\")['arr_0']\n",
    "    plt.figure(figsize=(10, 10))\n",
    "    for i in range(10):\n",
    "        plt.subplot(5, 5, i + 1)\n",
    "        plt.imshow(d[i+2][0], cmap=plt.cm.binary)\n",
    "        plt.axis(\"off\")\n",
    "        plt.title(class_names[l[i+2]])\n",
    "    #plt.show()\n",
    "    plt.savefig(f\"./saved_data_CIFAR_5/snp_{str(ii/100.0)}.png\",dpi=500,transparent=False)\n",
    "    plt.savefig(f\"./saved_data_CIFAR_5/snp_{str(ii/100.0)}.ps\")\n",
    "     \n",
    "     \n",
    "for ii in range(1,6,1):\n",
    "    print(f\"noise probability = {2*ii/10.}\")\n",
    "    d = np.load(f\"./saved_data_CIFAR_5/snp_{ii/10.0}_{seed}.npz\")['arr_0']\n",
    "    l = np.load(f\"./saved_data_CIFAR_5/test_labels.npz\")['arr_0']\n",
    "    plt.figure(figsize=(10, 10))\n",
    "    for i in range(10):\n",
    "        plt.subplot(5, 5, i + 1)\n",
    "        plt.imshow(d[i+2][0], cmap=plt.cm.binary)\n",
    "        plt.axis(\"off\")\n",
    "        plt.title(class_names[l[i+2]])\n",
    "    #plt.show()\n",
    "    plt.savefig(f\"./saved_data_CIFAR_5/snp_{str(ii/10.0)}.png\",dpi=500,transparent=False)\n",
    "    plt.savefig(f\"./saved_data_CIFAR_5/snp_{str(ii/10.0)}.ps\")"
   ]
  },
  {
   "cell_type": "markdown",
   "metadata": {},
   "source": [
    "# gaussian"
   ]
  },
  {
   "cell_type": "code",
   "execution_count": null,
   "metadata": {},
   "outputs": [],
   "source": [
    "if create:\n",
    "  for i in tqdm([i for i in range(1,10)]+[i/10 for i in range(1,10)]):\n",
    "    sampled_images = np.load(f\"./saved_data_CIFAR_5/test_seqs_{seed}.npz\")['arr_0']\n",
    "    sampled_labels = np.load(\"./saved_data_CIFAR_5/test_labels.npz\")['arr_0']\n",
    "    sigma = (i*0.1)**0.5\n",
    "    mean = 0\n",
    "    for j in range(len(sampled_labels)):\n",
    "      for _ in range(len(sampled_images[j])):\n",
    "        row,col = sampled_images[j][_].shape\n",
    "        # gauss = np.array(np.random.normal(mean,sigma,size=(28,28))).reshape(row,col)\n",
    "        gauss = np.array(np.random.randn(row*col)) #* var ** 0.5 + mean\n",
    "        gauss = gauss*sigma + mean\n",
    "        gauss = gauss.reshape(row,col)\n",
    "        sampled_images[j][_] = sampled_images[j][_] + gauss\n",
    "    np.savez_compressed(f\"./saved_data_CIFAR_5/gauss_{i/10.}_{seed}.npz\",sampled_images)"
   ]
  },
  {
   "cell_type": "code",
   "execution_count": null,
   "metadata": {},
   "outputs": [],
   "source": [
    "for ii in [0.01, 0.02, 0.03, 0.04, 0.05, 0.06, 0.07, 0.08, 0.09, 0.1, 0.2, 0.3, 0.4, 0.5, 0.6, 0.7, 0.8, 0.9]:\n",
    "    print(f\"gaussian noise sigma = {ii}\")\n",
    "    d = np.load(f\"./saved_data_CIFAR_5/gauss_{ii}_{seed}.npz\")['arr_0']\n",
    "    l = np.load(f\"./saved_data_CIFAR_5/test_labels.npz\")['arr_0']\n",
    "    plt.figure(figsize=(10, 10))\n",
    "    for i in range(10):\n",
    "        plt.subplot(5, 5, i + 1)\n",
    "        plt.imshow(d[i+2][0], cmap=plt.cm.binary)\n",
    "        plt.axis(\"off\")\n",
    "        plt.title(class_names[l[i+2]])\n",
    "    #plt.show()\n",
    "    plt.savefig(f\"./saved_data_CIFAR_5/gauss_{str(ii)}.png\",dpi=500,transparent=False)\n",
    "    plt.savefig(f\"./saved_data_CIFAR_5/gauss_{str(ii)}.ps\")"
   ]
  },
  {
   "cell_type": "markdown",
   "metadata": {},
   "source": [
    "# perlin"
   ]
  },
  {
   "cell_type": "code",
   "execution_count": null,
   "metadata": {},
   "outputs": [],
   "source": [
    "def generate_perlin_noise_2d(shape, res):\n",
    "    def f(t):\n",
    "        return 6*t**5 - 15*t**4 + 10*t**3\n",
    "\n",
    "    delta = (res[0] / shape[0], res[1] / shape[1])\n",
    "    d = (shape[0] // res[0], shape[1] // res[1])\n",
    "    grid = np.mgrid[0:res[0]:delta[0],0:res[1]:delta[1]].transpose(1, 2, 0) % 1\n",
    "    # Gradients\n",
    "    angles = 2*np.pi*np.random.rand(res[0]+1, res[1]+1)\n",
    "    gradients = np.dstack((np.cos(angles), np.sin(angles)))\n",
    "    g00 = gradients[0:-1,0:-1].repeat(d[0], 0).repeat(d[1], 1)\n",
    "    g10 = gradients[1:,0:-1].repeat(d[0], 0).repeat(d[1], 1)\n",
    "    g01 = gradients[0:-1,1:].repeat(d[0], 0).repeat(d[1], 1)\n",
    "    g11 = gradients[1:,1:].repeat(d[0], 0).repeat(d[1], 1)\n",
    "    # Ramps\n",
    "    n00 = np.sum(grid * g00, 2)\n",
    "    n10 = np.sum(np.dstack((grid[:,:,0]-1, grid[:,:,1])) * g10, 2)\n",
    "    n01 = np.sum(np.dstack((grid[:,:,0], grid[:,:,1]-1)) * g01, 2)\n",
    "    n11 = np.sum(np.dstack((grid[:,:,0]-1, grid[:,:,1]-1)) * g11, 2)\n",
    "    # Interpolation\n",
    "    t = f(grid)\n",
    "    n0 = n00*(1-t[:,:,0]) + t[:,:,0]*n10\n",
    "    n1 = n01*(1-t[:,:,0]) + t[:,:,0]*n11\n",
    "    return np.sqrt(2)*((1-t[:,:,1])*n0 + t[:,:,1]*n1)\n"
   ]
  },
  {
   "cell_type": "code",
   "execution_count": null,
   "metadata": {},
   "outputs": [],
   "source": [
    "sampled_images = np.load(f\"./saved_data_CIFAR_5/test_seqs_{seed}.npz\")['arr_0']\n",
    "sampled_labels = np.load(f\"./saved_data_CIFAR_5/test_labels.npz\")['arr_0']\n",
    "for res in [1,14,7]:\n",
    "    if create:\n",
    "        for i in range(len(sampled_labels)):\n",
    "            texture = generate_perlin_noise_2d((28,28),(res,res))\n",
    "            for j in range(10):\n",
    "                sampled_images[i][j] += texture\n",
    "        np.savez_compressed(f\"./saved_data_CIFAR_5/perlin_{res}_x_{res}_{seed}.npz\",sampled_images)\n",
    "\n",
    "    d = np.load(f\"./saved_data_CIFAR_5/perlin_{res}_x_{res}_{seed}.npz\")['arr_0']\n",
    "    l = np.load(f\"./saved_data_CIFAR_5/test_labels.npz\")['arr_0']\n",
    "    plt.figure(figsize=(10, 10))\n",
    "    for i in range(10):\n",
    "        plt.subplot(5, 5, i + 1)\n",
    "        plt.imshow(d[i+2][0], cmap=plt.cm.binary)\n",
    "        plt.axis(\"off\")\n",
    "        plt.title(class_names[l[i+2]])\n",
    "    #plt.show()\n",
    "    plt.savefig(f\"./saved_data_CIFAR_5/perlin_{str(res)}.png\",dpi=500,transparent=False)\n",
    "    plt.savefig(f\"./saved_data_CIFAR_5/perlin_{str(res)}.ps\")\n",
    "     \n",
    "     "
   ]
  },
  {
   "cell_type": "markdown",
   "metadata": {},
   "source": [
    "# rayleigh"
   ]
  },
  {
   "cell_type": "code",
   "execution_count": null,
   "metadata": {},
   "outputs": [],
   "source": [
    "if create:\n",
    "  for i in tqdm([i/100 for i in range(1,10)]+[i/10 for i in range(1,10)]):\n",
    "    sampled_images = np.load(f\"./saved_data_CIFAR_5/test_seqs_{seed}.npz\")['arr_0']\n",
    "    sampled_labels = np.load(\"./saved_data_CIFAR_5/test_labels.npz\")['arr_0']\n",
    "    for j in range(len(sampled_labels)):\n",
    "      for _ in range(len(sampled_images[j])):\n",
    "        row,col = sampled_images[j][_].shape\n",
    "        rayl = np.array(np.random.rayleigh(i,row*col)).reshape(28,28) \n",
    "        sampled_images[j][_] += rayl\n",
    "    np.savez_compressed(f\"./saved_data_CIFAR_5/rayl_{i}_{seed}.npz\",sampled_images)"
   ]
  },
  {
   "cell_type": "code",
   "execution_count": null,
   "metadata": {},
   "outputs": [],
   "source": [
    "for ii in [i/100 for i in range(1,10)]+[i/10 for i in range(1,10)]:\n",
    "    d = np.load(f\"./saved_data_CIFAR_5/rayl_{ii}_{seed}.npz\")['arr_0']\n",
    "    l = np.load(f\"./saved_data_CIFAR_5/test_labels.npz\")['arr_0']\n",
    "    plt.figure(figsize=(10, 10))\n",
    "    for i in range(10):\n",
    "        plt.subplot(5, 5, i + 1)\n",
    "        plt.imshow(d[i+2][0], cmap=plt.cm.binary)\n",
    "        plt.axis(\"off\")\n",
    "        plt.title(class_names[l[i+2]])\n",
    "    #plt.show()\n",
    "    plt.savefig(f\"./saved_data_CIFAR_5/rayl_{str(ii)}.png\",dpi=500,transparent=False)\n",
    "    plt.savefig(f\"./saved_data_CIFAR_5/rayl_{str(ii)}.ps\")\n",
    "     \n",
    "     "
   ]
  },
  {
   "cell_type": "markdown",
   "metadata": {},
   "source": [
    "# uniform"
   ]
  },
  {
   "cell_type": "code",
   "execution_count": null,
   "metadata": {},
   "outputs": [],
   "source": [
    "if create:\n",
    "  for i in tqdm([i/100 for i in range(1,10)]+[i/10 for i in range(1,10)]):\n",
    "    sampled_images = np.load(f\"./saved_data_CIFAR_5/test_seqs_{seed}.npz\")['arr_0']\n",
    "    sampled_labels = np.load(\"./saved_data_CIFAR_5/test_labels.npz\")['arr_0']\n",
    "    for j in range(len(sampled_labels)):\n",
    "      for _ in range(len(sampled_images[j])):\n",
    "        row,col = sampled_images[j][_].shape\n",
    "        rayl = np.array(np.random.uniform(0,i,row*col)).reshape(28,28) \n",
    "        sampled_images[j][_] += rayl\n",
    "    np.savez_compressed(f\"./saved_data_CIFAR_5/uniform_0_{i}_{seed}.npz\",sampled_images)"
   ]
  },
  {
   "cell_type": "code",
   "execution_count": null,
   "metadata": {},
   "outputs": [],
   "source": [
    "for ii in [i/100 for i in range(1,10)]+[i/10 for i in range(1,10)]:\n",
    "    d = np.load(f\"./saved_data_CIFAR_5/uniform_0_{ii}_{seed}.npz\")['arr_0']\n",
    "    l = np.load(f\"./saved_data_CIFAR_5/test_labels.npz\")['arr_0']\n",
    "    plt.figure(figsize=(10, 10))\n",
    "    for i in range(10):\n",
    "        plt.subplot(5, 5, i + 1)\n",
    "        plt.imshow(d[i+2][0], cmap=plt.cm.binary)\n",
    "        plt.axis(\"off\")\n",
    "        plt.title(class_names[l[i+2]])\n",
    "    #plt.show()\n",
    "    plt.savefig(f\"./saved_data_CIFAR_5/uniform_{str(ii)}.png\",dpi=500,transparent=False)\n",
    "    plt.savefig(f\"./saved_data_CIFAR_5/uniform_{str(ii)}.ps\")\n",
    "     \n",
    "     "
   ]
  }
 ],
 "metadata": {
  "kernelspec": {
   "display_name": "Python 3.9.12 64-bit",
   "language": "python",
   "name": "python3"
  },
  "language_info": {
   "codemirror_mode": {
    "name": "ipython",
    "version": 3
   },
   "file_extension": ".py",
   "mimetype": "text/x-python",
   "name": "python",
   "nbconvert_exporter": "python",
   "pygments_lexer": "ipython3",
   "version": "3.9.12"
  },
  "vscode": {
   "interpreter": {
    "hash": "beaffcd69350167707082d796d83130d58bab3408b4f65f2e212ecd34479db88"
   }
  }
 },
 "nbformat": 4,
 "nbformat_minor": 4
}
